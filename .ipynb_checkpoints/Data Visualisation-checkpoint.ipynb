{
 "cells": [
  {
   "cell_type": "markdown",
   "metadata": {},
   "source": [
    "##### Plot bar chart and line chart in the same graph with secondary axis"
   ]
  },
  {
   "cell_type": "markdown",
   "metadata": {},
   "source": [
    "create one data frame with all the required data\n"
   ]
  },
  {
   "cell_type": "code",
   "execution_count": null,
   "metadata": {},
   "outputs": [],
   "source": [
    "import matplotlib.ticker as ticker\n",
    "tick_spacing = 0.1\n",
    "\n",
    "a = DF_exfraud.loc[DF_exfraud['Vintage'] == i]\n",
    "\n",
    "\n",
    "y = 'def'\n",
    "#figure(1, figsize=(9, 9))\n",
    "\n",
    "actualx=pd.DataFrame({'Probability':a.groupby(y).mean()['Default_flag'].index, 'Actual_PD':a.groupby(y).mean()['Default_flag'].values})\n",
    "count=pd.DataFrame({'Probability':a[y].value_counts().sort_index().index, 'Loans':a[y].value_counts().sort_index().values})\n",
    "prob_def=pd.DataFrame({'Probability':a[y].value_counts().sort_index().index, 'PD':a.groupby(y).mean()['default_prob'].values})\n",
    "\n",
    "d3=pd.merge(actualx,count, on='Probability', how='inner')#.set_index('Probability')\n",
    "d3=pd.merge(prob_def,d3, on='Probability', how='inner')\n",
    "d3[['Loans']].plot(kind='bar')\n",
    "plt.ylabel('Count')\n",
    "plt.xlabel('Default Probability')\n",
    "d3['Actual_PD'].plot(secondary_y=True)\n",
    "d3['PD'].plot(secondary_y=True)\n",
    "ax = plt.gca()\n",
    "ax.yaxis.set_major_locator(ticker.MultipleLocator(tick_spacing))\n",
    "ax.set_ylim(bottom=0.,top=1)\n",
    "\n",
    "ax.set_title(i+' default rate and frequency plot')\n",
    "ax.set_xticklabels(d3['Probability'].tolist())\n",
    "plt.ylabel('Actual default rate')\n",
    "plt.legend(loc='upper left')"
   ]
  }
 ],
 "metadata": {
  "kernelspec": {
   "display_name": "Python 3",
   "language": "python",
   "name": "python3"
  },
  "language_info": {
   "codemirror_mode": {
    "name": "ipython",
    "version": 3
   },
   "file_extension": ".py",
   "mimetype": "text/x-python",
   "name": "python",
   "nbconvert_exporter": "python",
   "pygments_lexer": "ipython3",
   "version": "3.6.1"
  }
 },
 "nbformat": 4,
 "nbformat_minor": 2
}
